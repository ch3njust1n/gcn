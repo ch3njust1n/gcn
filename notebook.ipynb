{
 "cells": [
  {
   "cell_type": "markdown",
   "id": "cb94608e",
   "metadata": {},
   "source": [
    "### TODO\n",
    "1. Softmax layer\n",
    "2. Fix backprop\n",
    "3. Gradient checking\n",
    "4. Visualize loss\n",
    "5. Embeddings\n",
    "6. Gradient of cross ent"
   ]
  },
  {
   "cell_type": "code",
   "execution_count": 1,
   "id": "54212227",
   "metadata": {},
   "outputs": [],
   "source": [
    "import config\n",
    "import argparse\n",
    "import random\n",
    "import networkx as nx\n",
    "import numpy as np\n",
    "from collections import defaultdict\n",
    "from pyvis.network import Network\n",
    "import matplotlib.pyplot as plt\n",
    "from networkx.algorithms.community.modularity_max import greedy_modularity_communities"
   ]
  },
  {
   "cell_type": "code",
   "execution_count": 2,
   "id": "bad94cc9",
   "metadata": {},
   "outputs": [],
   "source": [
    "seed = 100\n",
    "np.random.seed(seed)"
   ]
  },
  {
   "cell_type": "markdown",
   "id": "ea1675e6",
   "metadata": {},
   "source": [
    "### Graph data"
   ]
  },
  {
   "cell_type": "code",
   "execution_count": 3,
   "id": "a447222d",
   "metadata": {},
   "outputs": [],
   "source": [
    "G = nx.karate_club_graph()"
   ]
  },
  {
   "cell_type": "code",
   "execution_count": 4,
   "id": "1916a77e",
   "metadata": {},
   "outputs": [
    {
     "data": {
      "text/plain": [
       "(34, 78)"
      ]
     },
     "execution_count": 4,
     "metadata": {},
     "output_type": "execute_result"
    }
   ],
   "source": [
    "G.number_of_nodes(), G.number_of_edges()"
   ]
  },
  {
   "cell_type": "markdown",
   "id": "9fae2681",
   "metadata": {},
   "source": [
    "### Generate labels from communities"
   ]
  },
  {
   "cell_type": "code",
   "execution_count": 5,
   "id": "b88ae7a3",
   "metadata": {},
   "outputs": [],
   "source": [
    "communities = greedy_modularity_communities(G)\n",
    "colors = np.zeros(G.number_of_nodes())\n",
    "classes = set()\n",
    "\n",
    "for i, c in enumerate(communities):\n",
    "    colors[list(c)] = i\n",
    "    classes.add(i)\n",
    "    \n",
    "num_classes = len(classes)\n",
    "labels = np.eye(len(classes))[colors.astype(int)]"
   ]
  },
  {
   "cell_type": "markdown",
   "id": "12633de1",
   "metadata": {},
   "source": [
    "### Color nodes"
   ]
  },
  {
   "cell_type": "code",
   "execution_count": 6,
   "id": "0e98abae",
   "metadata": {
    "scrolled": true
   },
   "outputs": [
    {
     "name": "stdout",
     "output_type": "stream",
     "text": [
      "Local cdn resources have problems on chrome/safari when used in jupyter-notebook. \n"
     ]
    },
    {
     "data": {
      "text/html": [
       "\n",
       "        <iframe\n",
       "            width=\"100%\"\n",
       "            height=\"600px\"\n",
       "            src=\"colored_graph.html\"\n",
       "            frameborder=\"0\"\n",
       "            allowfullscreen\n",
       "            \n",
       "        ></iframe>\n",
       "        "
      ],
      "text/plain": [
       "<IPython.lib.display.IFrame at 0x110abef50>"
      ]
     },
     "execution_count": 6,
     "metadata": {},
     "output_type": "execute_result"
    }
   ],
   "source": [
    "def random_color():\n",
    "    return '#%02X%02X%02X' % (random.randint(0, 255), random.randint(0, 255), random.randint(0, 255))\n",
    "\n",
    "# uncomment for random colors\n",
    "# color_map = {cls: random_color() for cls in classes}\n",
    "color_map = {0: '#46FB47', 1: '#B9E6B5', 2: '#9F9EBF'}\n",
    "\n",
    "colored_graph = Network(width='100%', notebook=True)\n",
    "\n",
    "for node in G.nodes():\n",
    "    colored_graph.add_node(node, color=color_map[int(colors[node])])\n",
    "    \n",
    "for edge in G.edges():\n",
    "    colored_graph.add_edge(int(edge[0]), int(edge[1]))\n",
    "    \n",
    "colored_graph.show('colored_graph.html')"
   ]
  },
  {
   "cell_type": "code",
   "execution_count": 7,
   "id": "0d1715f5",
   "metadata": {},
   "outputs": [],
   "source": [
    "def renormalization(G):\n",
    "    A = nx.to_numpy_matrix(G)\n",
    "    I = np.eye(len(A))\n",
    "    A_tilde = A + I\n",
    "    D_tilde = np.zeros(A.shape, int)\n",
    "    np.fill_diagonal(D_tilde, np.sum(A_tilde, axis=1).flatten())\n",
    "    D_tilde = np.linalg.inv(D_tilde)\n",
    "    D_tilde = np.power(D_tilde, 0.5)\n",
    "    return D_tilde @ A_tilde @ D_tilde"
   ]
  },
  {
   "cell_type": "code",
   "execution_count": 8,
   "id": "8e2c76a9",
   "metadata": {},
   "outputs": [
    {
     "data": {
      "text/plain": [
       "matrix([[0., 4., 5., ..., 2., 0., 0.],\n",
       "        [4., 0., 6., ..., 0., 0., 0.],\n",
       "        [5., 6., 0., ..., 0., 2., 0.],\n",
       "        ...,\n",
       "        [2., 0., 0., ..., 0., 4., 4.],\n",
       "        [0., 0., 2., ..., 4., 0., 5.],\n",
       "        [0., 0., 0., ..., 4., 5., 0.]])"
      ]
     },
     "execution_count": 8,
     "metadata": {},
     "output_type": "execute_result"
    }
   ],
   "source": [
    "nx.to_numpy_matrix(G)"
   ]
  },
  {
   "cell_type": "code",
   "execution_count": 9,
   "id": "d888bb09",
   "metadata": {},
   "outputs": [
    {
     "name": "stdout",
     "output_type": "stream",
     "text": [
      "[[0.02325581 0.11136921 0.13076645 ... 0.06502561 0.         0.        ]\n",
      " [0.11136921 0.03333333 0.18786729 ... 0.         0.         0.        ]\n",
      " [0.13076645 0.18786729 0.02941176 ... 0.         0.0549235  0.        ]\n",
      " ...\n",
      " [0.06502561 0.         0.         ... 0.04545455 0.13655775 0.12182898]\n",
      " [0.         0.         0.0549235  ... 0.13655775 0.02564103 0.11437725]\n",
      " [0.         0.         0.         ... 0.12182898 0.11437725 0.02040816]]\n"
     ]
    }
   ],
   "source": [
    "A_hat = renormalization(G)\n",
    "print(A_hat)"
   ]
  },
  {
   "cell_type": "markdown",
   "id": "66038b74",
   "metadata": {},
   "source": [
    "### Helper functions"
   ]
  },
  {
   "cell_type": "code",
   "execution_count": 10,
   "id": "541a2e69",
   "metadata": {},
   "outputs": [],
   "source": [
    "def glorot_init(in_dim, out_dim):\n",
    "    sd = np.sqrt(6.0 / (in_dim + out_dim))\n",
    "    return np.random.uniform(-sd, sd, size=(in_dim, out_dim))"
   ]
  },
  {
   "cell_type": "markdown",
   "id": "29ba31f5",
   "metadata": {},
   "source": [
    "### Gradient Descent\n",
    "\n",
    "For each iteration of gradient descent, compute local gradients with **backpropagation** - compute global gradient as a chain of local gradients using chain rule of calculus.\n",
    "\n",
    "Starting from the last layer $l$:\n",
    "\n",
    "$$\n",
    "\\delta^{(l)}=\\frac{\\partial}{\\partial z^{(l)}}\\mathcal{L}\n",
    "$$\n",
    "\n",
    "Think of the **error signal** $\\delta^{(l)}$ as serving as the same function as $x$ during the forward pass.\n",
    "\n",
    "For layer $i$ in $l-1$ to $2$:\n",
    "\n",
    "$$\n",
    "\\begin{align*}\n",
    "    \\nabla_{w^{(i)}}\\mathcal{L}&=\\delta^{(i+1)}a^{(i-1)^{\\top}}&&\\quad a^{(i-1)}\\text{ is the incoming activation to layer } i \\text{ from layer }i-1\\\\\\\\\n",
    "    \\nabla_{b^{(i)}}\\mathcal{L}&=\\delta^{(i+1)}&&\\quad\\text{shift by error signal}\\\\\\\\  \n",
    "    \\delta^{i} &= W^{i^{\\top}}\\delta^{i+1}\\odot\\frac{\\partial}{\\partial z}f(z^{(i-1)})&&\\quad W^{i^{\\top}} \\text{ propagates the error signal backwards as a linear combination scaled by the derivative}\n",
    "\\end{align*}\n",
    "$$\n",
    "\n",
    "Think about the convexity of the latent space as discretized across dimensions of $z\\in\\mathbb{R}^{N}$. Each row of a hidden layer corresponds to a neuron, which corresponds to a position in the activation vector for a given input vector. As $\\frac{\\partial}{\\partial z}f(z)\\rightarrow 0$, for the particular combination of activations given to this neuron from the previous layer, the derivative indicates how this specific neuron is changing - which measures the convexity of this particular dimension in latent space $\\mathbb{R}^{N}$.\n",
    "\n",
    "As $\\frac{\\partial}{\\partial z}f(z)\\rightarrow 0$, the neuron reacts less to the incoming linear combination, which means that for this combination of features, there is a local minima in this latent space. So as backpropagation progresses across training, gradients of neurons converge to local minima.\n",
    "\n",
    "For each layer $i$, apply gradient descent:\n",
    "\n",
    "$$\n",
    "\\begin{align}\n",
    "    W^{(i)} &= W^{(i)} - \\alpha\\mathbb{E}[\\nabla_{W^{(i)}}\\mathcal{L}]\\\\\n",
    "    b^{(i)} &= b^{(i)} - \\alpha\\mathbb{E}[\\nabla_{b^{(i)}}\\mathcal{L}]\n",
    "\\end{align}\n",
    "$$\n",
    "\n",
    "$$\n",
    "\\mathbb{E}[\\nabla_{W_{j}}]=\\frac{1}{b}\\sum^{b}_{j=1}\\nabla_{W_{j}}\\mathcal{L} \\text{ is the expected gradient of the batch of samples and same for bias}\n",
    "$$"
   ]
  },
  {
   "cell_type": "code",
   "execution_count": 11,
   "id": "d1ae207a",
   "metadata": {},
   "outputs": [],
   "source": [
    "class GradientDescent(object):\n",
    "    def __init__(self, parameters, learning_rate):\n",
    "        self.parameters = parameters\n",
    "        self.learning_rate = learning_rate\n",
    "        \n",
    "        \n",
    "    def zero_gradients(self):\n",
    "        for layer in self.parameters:\n",
    "            layer.W_grad = np.zeros(layer.W.shape)\n",
    "            layer.b_grad = np.zeros(layer.b.shape)\n",
    "    \n",
    "    \n",
    "    def step(self):\n",
    "        for layer in self.parameters:\n",
    "            layer.W -= self.learning_rate * layer.W_grad\n",
    "            layer.b -= self.learning_rate * layer.b_grad"
   ]
  },
  {
   "cell_type": "markdown",
   "id": "cd598dc6",
   "metadata": {},
   "source": [
    "### Graph Convolutional Layer\n",
    "\n",
    "$$\n",
    "\\text{ReLU}(\\hat{A}XW^{1}+b^{1})\n",
    "$$"
   ]
  },
  {
   "cell_type": "code",
   "execution_count": 12,
   "id": "bb33fb85",
   "metadata": {},
   "outputs": [],
   "source": [
    "class GCLayer(object):\n",
    "    def __init__(self, input_dim, output_dim):\n",
    "        self.input_dim = input_dim\n",
    "        self.output_dim = output_dim\n",
    "        self.W = glorot_init(output_dim, input_dim)\n",
    "        self.W_grad = np.zeros(self.W.shape)\n",
    "        self.b = np.ones((output_dim, 1))\n",
    "        self.b_grad = np.zeros(self.b.shape)\n",
    "        \n",
    "        \n",
    "    def relu(self, x):\n",
    "        return np.vectorize(lambda i : i if i > 0 else 0)(x)\n",
    "    \n",
    "    \n",
    "    def relu_derivative(self, x):\n",
    "        return (x > 0) * 1\n",
    "    \n",
    "    \n",
    "    '''\n",
    "    inputs:\n",
    "    G (nx.Graph)   Normalized Laplacian matrix for a static graph.\n",
    "                   Dimensions: N x N where N is the number of nodes.\n",
    "    x (np.ndarray) Embedding matrix\n",
    "                   Dimensions: N x F where F is the number of features.\n",
    "    '''\n",
    "    def __call__(self, G, x):\n",
    "        # (nodes x nodes), (nodes x features), so need to transpose\n",
    "        # before taking linear combination\n",
    "        self.i = x # (nxf)\n",
    "        self.X = (G @ x).T # (n,n) x (n,f) -> (n,f).T -> (f,n)\n",
    "        self.z = self.W @ self.X + self.b # (h,f) x (f,n) + (h,1) -> (h,n). Broadcast bias vector.\n",
    "        self.a = self.relu(self.z) # (h,n), where n is number of samples/nodes\n",
    "        \n",
    "        # print('GC Layer')\n",
    "        # print(f'x.shape: {x.shape}')\n",
    "        # print(f'X.shape: {self.X.shape}')\n",
    "        # print(f'W.shape: {self.W.shape}')\n",
    "        # print(f'b.shape: {self.b.shape}')\n",
    "        # print(f'z.shape: {self.z.shape}')\n",
    "        # print(f'a.shape: {self.a.shape}')\n",
    "        \n",
    "        # transpose so can multiply by adjacency matrix in next layer\n",
    "        return self.a.T # (n,h)\n",
    "    \n",
    "    \n",
    "    def backward(self, error):\n",
    "        batch_size = self.X.shape[1] # batch size\n",
    "        self.W_grad += (error @ self.X.T)/batch_size # (h,n) x (n,f) -> (h,f) which matches W.shape \n",
    "       \n",
    "        expected_grad = np.average(error, axis=1, weights=[batch_size]*error[0]) # expected gradient\n",
    "        expected_grad = expected_grad[:, np.newaxis] # add back column dim of 1 to match b_grad shape\n",
    "        \n",
    "        self.b_grad += expected_grad # (h,n)\n",
    "        \n",
    "        print(f'self.W.T: {self.W.T.shape}')\n",
    "        print(f'error: {error.shape}')\n",
    "        print(f'self.z: {self.z.shape}')\n",
    "        \n",
    "        return self.W.T @ error * self.relu_derivative(self.z)\n",
    "    "
   ]
  },
  {
   "cell_type": "markdown",
   "id": "0d8909bd",
   "metadata": {},
   "source": [
    "### Linear Layer"
   ]
  },
  {
   "cell_type": "code",
   "execution_count": 13,
   "id": "71be99dc",
   "metadata": {},
   "outputs": [],
   "source": [
    "class Linear(object):\n",
    "    def __init__(self, input_dim, output_dim):\n",
    "        self.input_dim = input_dim\n",
    "        self.output_dim = output_dim\n",
    "        self.W = glorot_init(output_dim, input_dim)\n",
    "        self.W_grad = np.zeros(self.W.shape)\n",
    "        self.b = np.ones((self.output_dim, 1))\n",
    "        self.b_grad = np.zeros(self.b.shape)\n",
    "        \n",
    "        \n",
    "    def relu(self, x):\n",
    "        return np.vectorize(lambda i : i if i > 0 else 0)(x)\n",
    "    \n",
    "    \n",
    "    def relu_derivative(self, x):\n",
    "        return (x > 0) * 1\n",
    "    \n",
    "\n",
    "    '''\n",
    "    inputs:\n",
    "    x (np.ndarray) Inputs to this layer\n",
    "    \n",
    "    outputs:\n",
    "    a (np.ndarray) Output activations\n",
    "    '''\n",
    "    def __call__(self, x):    \n",
    "        self.x = x # (f,n)\n",
    "        self.z = self.W @ x + self.b # (h,f) x (f,n) + (h,1). Broadcast bias vector.\n",
    "        self.a = self.relu(self.z)   # (h,n)\n",
    "        \n",
    "        # print('Linear layer')\n",
    "        # print(f'x.shape: {x.shape}')\n",
    "        # print(f'W.shape: {self.W.shape}')\n",
    "        # print(f'b.shape: {self.b.shape}')\n",
    "        # print(f'z.shape: {self.z.shape}')\n",
    "        \n",
    "        return self.a.T # (h,n)\n",
    "    \n",
    "    \n",
    "    '''\n",
    "    inputs:\n",
    "    error (np.ndarray) Error signal of shape (W.out_dim, batch_size) from subsequent layer\n",
    "    \n",
    "    outputs:\n",
    "    \n",
    "    '''\n",
    "    def backward(self, error):\n",
    "        batch_size = error.shape[1]\n",
    "        self.W_grad += (error @ self.x.T) / batch_size # (h,n) x (n,f)\n",
    "        self.b_grad += (np.sum(error, axis=1)) / batch_size # (h,n)\n",
    "        return self.W.T @ np.multiply(np.array(error), np.array(self.relu_derivative(self.z))) # (f,h) x (h,n) * (h,n)\n",
    "        # (16,34) and (3,34)\n",
    "        "
   ]
  },
  {
   "cell_type": "markdown",
   "id": "e33e169d",
   "metadata": {},
   "source": [
    "### Graph Convolutional Network"
   ]
  },
  {
   "cell_type": "code",
   "execution_count": 14,
   "id": "55148335",
   "metadata": {},
   "outputs": [],
   "source": [
    "class GCN(object):\n",
    "    def __init__(self, graph, num_classes):\n",
    "        self.G = graph\n",
    "        self.nodes = self.G.shape[0]\n",
    "        self.embedding = np.eye(self.nodes)\n",
    "        self.l0 = GCLayer(self.nodes, 16)\n",
    "        self.l1 = GCLayer(16, 16)\n",
    "        self.l2 = Linear(16, num_classes)\n",
    "        self.parameters = [self.l0, self.l1, self.l2]\n",
    "        \n",
    "        \n",
    "    def softmax(self, x):\n",
    "        exps = np.exp(x - np.max(x))\n",
    "        return exps / np.sum(exps)\n",
    "        \n",
    "    \n",
    "    def __call__(self, x):\n",
    "        a0 = self.l0(self.G, x)\n",
    "        a1 = self.l1(self.G, a0).T\n",
    "        a2 = self.l2(a1)\n",
    "        return self.softmax(a2)\n",
    "    \n",
    "    \n",
    "    def backward(self, x):\n",
    "        # Transpose errors from (34,3) -> (3,34) because linear weights are (16,34), but transposed for BP\n",
    "        # so computation must be (labels, batch_size) x (batch_size, hidden_dim) to get error @ x.T\n",
    "        d2 = self.l2.backward(x.T)\n",
    "        print(f'd2.shape: {d2.shape}')\n",
    "        d1 = self.l1.backward(d2)\n",
    "        print(f'd1.shape: {d1.shape}')\n",
    "        d0 = self.l0.backwards(d1)\n",
    "        print(f'd0.shape: {d0.shape}')\n",
    "        "
   ]
  },
  {
   "cell_type": "markdown",
   "id": "fe40fecd",
   "metadata": {},
   "source": [
    "### Loss function"
   ]
  },
  {
   "cell_type": "code",
   "execution_count": 15,
   "id": "41c9bf59",
   "metadata": {},
   "outputs": [],
   "source": [
    "def cross_ent(predictions, targets):\n",
    "    N = predictions.shape[0]\n",
    "    targets_ = np.squeeze(np.asarray(targets))\n",
    "    predictions_ = np.squeeze(np.asarray(predictions))\n",
    "    ce = -np.sum(targets_*np.log(predictions_))/N\n",
    "    return ce"
   ]
  },
  {
   "cell_type": "markdown",
   "id": "23ef3fcc",
   "metadata": {},
   "source": [
    "### Training loop"
   ]
  },
  {
   "cell_type": "code",
   "execution_count": 16,
   "id": "e2900659",
   "metadata": {},
   "outputs": [],
   "source": [
    "def train(model, loss, epochs, features, labels, opt):\n",
    "    for e in range(epochs):\n",
    "        output = model(features)\n",
    "        loss = loss(output, labels)\n",
    "        deriv_loss = output - labels\n",
    "        \n",
    "        # print(f'loss: {loss}\\n{loss.shape}')\n",
    "        # print(f'loss_: {deriv_loss}\\n{deriv_loss.shape}')\n",
    "        \n",
    "        model.backward(deriv_loss)\n",
    "        opt.step()\n",
    "        opt.zero_gradients()\n",
    "        \n",
    "        print(f'epoch {e} loss: {loss.mean()}')"
   ]
  },
  {
   "cell_type": "markdown",
   "id": "03ff0894",
   "metadata": {},
   "source": [
    "### Hyperparameters"
   ]
  },
  {
   "cell_type": "code",
   "execution_count": 17,
   "id": "8e12abb2",
   "metadata": {},
   "outputs": [],
   "source": [
    "epochs = 1\n",
    "lr = 0.1"
   ]
  },
  {
   "cell_type": "code",
   "execution_count": 18,
   "id": "c9e3b225",
   "metadata": {},
   "outputs": [
    {
     "name": "stdout",
     "output_type": "stream",
     "text": [
      "d2.shape: (16, 34)\n",
      "self.W.T: (16, 16)\n",
      "error: (16, 34)\n",
      "self.z: (16, 34)\n"
     ]
    },
    {
     "ename": "ValueError",
     "evalue": "shapes (16,34) and (16,34) not aligned: 34 (dim 1) != 16 (dim 0)",
     "output_type": "error",
     "traceback": [
      "\u001b[0;31m---------------------------------------------------------------------------\u001b[0m",
      "\u001b[0;31mValueError\u001b[0m                                Traceback (most recent call last)",
      "Cell \u001b[0;32mIn [18], line 4\u001b[0m\n\u001b[1;32m      2\u001b[0m model \u001b[38;5;241m=\u001b[39m GCN(A_hat, num_classes)\n\u001b[1;32m      3\u001b[0m opt \u001b[38;5;241m=\u001b[39m GradientDescent(model\u001b[38;5;241m.\u001b[39mparameters, lr)\n\u001b[0;32m----> 4\u001b[0m train(model, cross_ent, epochs, features, labels, opt)\n",
      "Cell \u001b[0;32mIn [16], line 10\u001b[0m, in \u001b[0;36mtrain\u001b[0;34m(model, loss, epochs, features, labels, opt)\u001b[0m\n\u001b[1;32m      5\u001b[0m deriv_loss \u001b[38;5;241m=\u001b[39m output \u001b[38;5;241m-\u001b[39m labels\n\u001b[1;32m      7\u001b[0m \u001b[38;5;66;03m# print(f'loss: {loss}\\n{loss.shape}')\u001b[39;00m\n\u001b[1;32m      8\u001b[0m \u001b[38;5;66;03m# print(f'loss_: {deriv_loss}\\n{deriv_loss.shape}')\u001b[39;00m\n\u001b[0;32m---> 10\u001b[0m model\u001b[38;5;241m.\u001b[39mbackward(deriv_loss)\n\u001b[1;32m     11\u001b[0m opt\u001b[38;5;241m.\u001b[39mstep()\n\u001b[1;32m     12\u001b[0m opt\u001b[38;5;241m.\u001b[39mzero_gradients()\n",
      "Cell \u001b[0;32mIn [14], line 29\u001b[0m, in \u001b[0;36mGCN.backward\u001b[0;34m(self, x)\u001b[0m\n\u001b[1;32m     27\u001b[0m d2 \u001b[38;5;241m=\u001b[39m \u001b[38;5;28mself\u001b[39m\u001b[38;5;241m.\u001b[39ml2\u001b[38;5;241m.\u001b[39mbackward(x\u001b[38;5;241m.\u001b[39mT)\n\u001b[1;32m     28\u001b[0m \u001b[38;5;28mprint\u001b[39m(\u001b[38;5;124mf\u001b[39m\u001b[38;5;124m'\u001b[39m\u001b[38;5;124md2.shape: \u001b[39m\u001b[38;5;132;01m{\u001b[39;00md2\u001b[38;5;241m.\u001b[39mshape\u001b[38;5;132;01m}\u001b[39;00m\u001b[38;5;124m'\u001b[39m)\n\u001b[0;32m---> 29\u001b[0m d1 \u001b[38;5;241m=\u001b[39m \u001b[38;5;28mself\u001b[39m\u001b[38;5;241m.\u001b[39ml1\u001b[38;5;241m.\u001b[39mbackward(d2)\n\u001b[1;32m     30\u001b[0m \u001b[38;5;28mprint\u001b[39m(\u001b[38;5;124mf\u001b[39m\u001b[38;5;124m'\u001b[39m\u001b[38;5;124md1.shape: \u001b[39m\u001b[38;5;132;01m{\u001b[39;00md1\u001b[38;5;241m.\u001b[39mshape\u001b[38;5;132;01m}\u001b[39;00m\u001b[38;5;124m'\u001b[39m)\n\u001b[1;32m     31\u001b[0m d0 \u001b[38;5;241m=\u001b[39m \u001b[38;5;28mself\u001b[39m\u001b[38;5;241m.\u001b[39ml0\u001b[38;5;241m.\u001b[39mbackwards(d1)\n",
      "Cell \u001b[0;32mIn [12], line 57\u001b[0m, in \u001b[0;36mGCLayer.backward\u001b[0;34m(self, error)\u001b[0m\n\u001b[1;32m     54\u001b[0m \u001b[38;5;28mprint\u001b[39m(\u001b[38;5;124mf\u001b[39m\u001b[38;5;124m'\u001b[39m\u001b[38;5;124merror: \u001b[39m\u001b[38;5;132;01m{\u001b[39;00merror\u001b[38;5;241m.\u001b[39mshape\u001b[38;5;132;01m}\u001b[39;00m\u001b[38;5;124m'\u001b[39m)\n\u001b[1;32m     55\u001b[0m \u001b[38;5;28mprint\u001b[39m(\u001b[38;5;124mf\u001b[39m\u001b[38;5;124m'\u001b[39m\u001b[38;5;124mself.z: \u001b[39m\u001b[38;5;132;01m{\u001b[39;00m\u001b[38;5;28mself\u001b[39m\u001b[38;5;241m.\u001b[39mz\u001b[38;5;241m.\u001b[39mshape\u001b[38;5;132;01m}\u001b[39;00m\u001b[38;5;124m'\u001b[39m)\n\u001b[0;32m---> 57\u001b[0m \u001b[38;5;28;01mreturn\u001b[39;00m \u001b[38;5;28mself\u001b[39m\u001b[38;5;241m.\u001b[39mW\u001b[38;5;241m.\u001b[39mT \u001b[38;5;241m@\u001b[39m error \u001b[38;5;241m*\u001b[39m \u001b[38;5;28mself\u001b[39m\u001b[38;5;241m.\u001b[39mrelu_derivative(\u001b[38;5;28mself\u001b[39m\u001b[38;5;241m.\u001b[39mz)\n",
      "File \u001b[0;32m~/.pyenv/versions/3.11.0rc2/envs/ml/lib/python3.11/site-packages/numpy/matrixlib/defmatrix.py:224\u001b[0m, in \u001b[0;36mmatrix.__rmul__\u001b[0;34m(self, other)\u001b[0m\n\u001b[1;32m    223\u001b[0m \u001b[38;5;28;01mdef\u001b[39;00m \u001b[38;5;21m__rmul__\u001b[39m(\u001b[38;5;28mself\u001b[39m, other):\n\u001b[0;32m--> 224\u001b[0m     \u001b[38;5;28;01mreturn\u001b[39;00m N\u001b[38;5;241m.\u001b[39mdot(other, \u001b[38;5;28mself\u001b[39m)\n",
      "File \u001b[0;32m<__array_function__ internals>:180\u001b[0m, in \u001b[0;36mdot\u001b[0;34m(*args, **kwargs)\u001b[0m\n",
      "\u001b[0;31mValueError\u001b[0m: shapes (16,34) and (16,34) not aligned: 34 (dim 1) != 16 (dim 0)"
     ]
    }
   ],
   "source": [
    "features = np.eye(G.number_of_nodes())\n",
    "model = GCN(A_hat, num_classes)\n",
    "opt = GradientDescent(model.parameters, lr)\n",
    "train(model, cross_ent, epochs, features, labels, opt)"
   ]
  },
  {
   "cell_type": "markdown",
   "id": "f1bc75d3",
   "metadata": {},
   "source": [
    "### Common errors\n",
    "\n",
    "1. **ValueError: matmul: Input operand 1 has a mismatch in its core dimension 0, with gufunc signature (n?,k),(k,m?)->(n?,m?) (size 34 is different from 3)**\n",
    "\n",
    "**Solution:**\n",
    "https://stackoverflow.com/a/40035266/3158028\n",
    "\n",
    "Also was accidentally transposing the Hadamard product which resulted in (16,3)x(34,3)\n",
    "\n",
    "2. **ValueError: non-broadcastable output operand with shape (16,1) doesn't match the broadcast shape (16,34)**\n",
    "\n",
    "**Solution:**\n",
    "Must average the errors across the batch dimension so can get a vector instead of (16,34).\n",
    "\n",
    "3. **ValueError: non-broadcastable output operand with shape (16,1) doesn't match the broadcast shape (16,16)**\n",
    "\n",
    "Tried `error = error[:, np.newaxis]`, but this added an extra dimension making error a `(16, 1, 34)` instead of a `(16, 34)`. Applied `[:, np.newaxis]` to error after summing. Summing removed the second dimension, so instead of being `(16,1)` it was just `(16,)`.\n",
    "\n",
    "4. **ValueError: shapes (16,34) and (16,34) not aligned: 34 (dim 1) != 16 (dim 0)**\n",
    "\n"
   ]
  },
  {
   "cell_type": "code",
   "execution_count": null,
   "id": "a5aa66f1",
   "metadata": {},
   "outputs": [],
   "source": []
  }
 ],
 "metadata": {
  "kernelspec": {
   "display_name": "Python 3 (ipykernel)",
   "language": "python",
   "name": "python3"
  },
  "language_info": {
   "codemirror_mode": {
    "name": "ipython",
    "version": 3
   },
   "file_extension": ".py",
   "mimetype": "text/x-python",
   "name": "python",
   "nbconvert_exporter": "python",
   "pygments_lexer": "ipython3",
   "version": "3.11.0rc2"
  }
 },
 "nbformat": 4,
 "nbformat_minor": 5
}
